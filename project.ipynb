{
  "cells": [
    {
      "cell_type": "markdown",
      "metadata": {},
      "source": [
        "# Cricket Match Outcome Prediction Model\n",
        "\n",
        "This project aims to predict the outcome of cricket matches based on various features. The steps below outline the process from data preprocessing to model evaluation."
      ]
    },
    {
      "cell_type": "markdown",
      "metadata": {},
      "source": [
        "### 1. Import Libraries\n",
        "\n",
        "Libraries such as pandas, scikit-learn, and matplotlib are imported for data manipulation, model building, and visualization."
      ]
    },
    {
      "cell_type": "code",
      "execution_count": 208,
      "metadata": {
        "id": "Yh8SFrek8Kr2"
      },
      "outputs": [],
      "source": [
        "import pandas as pd\n",
        "from sklearn.preprocessing import OneHotEncoder\n",
        "from sklearn.model_selection import train_test_split, GridSearchCV\n",
        "from sklearn.ensemble import RandomForestClassifier\n",
        "from sklearn.metrics import accuracy_score, precision_score, recall_score, f1_score\n",
        "from sklearn.metrics import confusion_matrix\n",
        "from sklearn.metrics import classification_report\n",
        "import matplotlib.pyplot as plt\n",
        "from sklearn.preprocessing import StandardScaler\n",
        "from sklearn.preprocessing import LabelEncoder\n",
        "from sklearn.compose import ColumnTransformer\n",
        "from sklearn.pipeline import Pipeline\n",
        "from sklearn.metrics import ConfusionMatrixDisplay\n"
      ]
    },
    {
      "cell_type": "markdown",
      "metadata": {},
      "source": [
        "### 2. Data Loading\n",
        "\n",
        "The dataset t20_wc24_match_data.csv is loaded into a DataFrame named df.\n"
      ]
    },
    {
      "cell_type": "code",
      "execution_count": 209,
      "metadata": {
        "id": "PtC2ULeR8VpQ"
      },
      "outputs": [],
      "source": [
        "df = pd.read_csv('./data/t20_wc24_match_data.csv')"
      ]
    },
    {
      "cell_type": "markdown",
      "metadata": {},
      "source": [
        "### Data Inspection:\n",
        "\n",
        "The shape and data types of the DataFrame are checked."
      ]
    },
    {
      "cell_type": "code",
      "execution_count": 210,
      "metadata": {
        "colab": {
          "base_uri": "https://localhost:8080/"
        },
        "id": "LaogLyBC8Yod",
        "outputId": "f1af2fc2-ba62-4057-e961-835a69bcda62"
      },
      "outputs": [
        {
          "data": {
            "text/plain": [
              "(1077, 15)"
            ]
          },
          "execution_count": 210,
          "metadata": {},
          "output_type": "execute_result"
        }
      ],
      "source": [
        "df.shape"
      ]
    },
    {
      "cell_type": "code",
      "execution_count": 211,
      "metadata": {
        "colab": {
          "base_uri": "https://localhost:8080/"
        },
        "id": "Kb-3fpAj8aJk",
        "outputId": "b4a45332-6fd4-43e8-b039-8e0a0c927b79"
      },
      "outputs": [
        {
          "data": {
            "text/plain": [
              "Venue                  object\n",
              "Date                   object\n",
              "Team_A                 object\n",
              "Team_B                 object\n",
              "Team_A_Ranking          int64\n",
              "Team_B_Ranking          int64\n",
              "Winner                 object\n",
              "Team_A_Score            int64\n",
              "Team_A_Wickets_Lost     int64\n",
              "Team_B_Score            int64\n",
              "Team_B_Wickets_Lost     int64\n",
              "Is_Home_Team_A          int64\n",
              "Is_Home_Team_B          int64\n",
              "Toss_Winner            object\n",
              "Toss_Decision          object\n",
              "dtype: object"
            ]
          },
          "execution_count": 211,
          "metadata": {},
          "output_type": "execute_result"
        }
      ],
      "source": [
        "df.dtypes"
      ]
    },
    {
      "cell_type": "markdown",
      "metadata": {},
      "source": [
        "The Date column is converted to datetime format."
      ]
    },
    {
      "cell_type": "code",
      "execution_count": 212,
      "metadata": {
        "id": "q0zyJblz8b0U"
      },
      "outputs": [],
      "source": [
        "df[\"Date\"] = pd.to_datetime(df[\"Date\"])"
      ]
    },
    {
      "cell_type": "markdown",
      "metadata": {},
      "source": [
        "### Missing Values:\n",
        "\n",
        "Check for missing values using df.isnull().sum()"
      ]
    },
    {
      "cell_type": "code",
      "execution_count": 213,
      "metadata": {
        "colab": {
          "base_uri": "https://localhost:8080/"
        },
        "id": "ejyNobii8d8N",
        "outputId": "af180078-7aa7-4078-b335-9d367b8d5f77"
      },
      "outputs": [
        {
          "data": {
            "text/plain": [
              "Venue                   0\n",
              "Date                    0\n",
              "Team_A                  0\n",
              "Team_B                  0\n",
              "Team_A_Ranking          0\n",
              "Team_B_Ranking          0\n",
              "Winner                 47\n",
              "Team_A_Score            0\n",
              "Team_A_Wickets_Lost     0\n",
              "Team_B_Score            0\n",
              "Team_B_Wickets_Lost     0\n",
              "Is_Home_Team_A          0\n",
              "Is_Home_Team_B          0\n",
              "Toss_Winner             0\n",
              "Toss_Decision           0\n",
              "dtype: int64"
            ]
          },
          "execution_count": 213,
          "metadata": {},
          "output_type": "execute_result"
        }
      ],
      "source": [
        "df.isnull().sum()"
      ]
    },
    {
      "cell_type": "markdown",
      "metadata": {},
      "source": [
        "Drop rows where the 'Winner' column is NaN."
      ]
    },
    {
      "cell_type": "code",
      "execution_count": 214,
      "metadata": {
        "id": "4CPSzUu68fvI"
      },
      "outputs": [],
      "source": [
        "df.dropna(subset=['Winner'], inplace=True)"
      ]
    },
    {
      "cell_type": "markdown",
      "metadata": {},
      "source": [
        "### Encoding:\n",
        "\n",
        "Use LabelEncoder to transform the Toss_Decision column into numerical format."
      ]
    },
    {
      "cell_type": "code",
      "execution_count": 215,
      "metadata": {
        "id": "RWpPyRgN8g_F"
      },
      "outputs": [],
      "source": [
        "le = LabelEncoder()\n",
        "df['Toss_Decision'] = le.fit_transform(df['Toss_Decision'])"
      ]
    },
    {
      "cell_type": "code",
      "execution_count": 216,
      "metadata": {
        "colab": {
          "base_uri": "https://localhost:8080/",
          "height": 116
        },
        "id": "qRqgcPwY8h3u",
        "outputId": "9c363ad9-83d1-45b3-f4a1-ad15dcaad65f"
      },
      "outputs": [
        {
          "data": {
            "text/html": [
              "<div>\n",
              "<style scoped>\n",
              "    .dataframe tbody tr th:only-of-type {\n",
              "        vertical-align: middle;\n",
              "    }\n",
              "\n",
              "    .dataframe tbody tr th {\n",
              "        vertical-align: top;\n",
              "    }\n",
              "\n",
              "    .dataframe thead th {\n",
              "        text-align: right;\n",
              "    }\n",
              "</style>\n",
              "<table border=\"1\" class=\"dataframe\">\n",
              "  <thead>\n",
              "    <tr style=\"text-align: right;\">\n",
              "      <th></th>\n",
              "      <th>Venue</th>\n",
              "      <th>Date</th>\n",
              "      <th>Team_A</th>\n",
              "      <th>Team_B</th>\n",
              "      <th>Team_A_Ranking</th>\n",
              "      <th>Team_B_Ranking</th>\n",
              "      <th>Winner</th>\n",
              "      <th>Team_A_Score</th>\n",
              "      <th>Team_A_Wickets_Lost</th>\n",
              "      <th>Team_B_Score</th>\n",
              "      <th>Team_B_Wickets_Lost</th>\n",
              "      <th>Is_Home_Team_A</th>\n",
              "      <th>Is_Home_Team_B</th>\n",
              "      <th>Toss_Winner</th>\n",
              "      <th>Toss_Decision</th>\n",
              "    </tr>\n",
              "  </thead>\n",
              "  <tbody>\n",
              "    <tr>\n",
              "      <th>1076</th>\n",
              "      <td>R Premadasa Stadium</td>\n",
              "      <td>2016-09-09</td>\n",
              "      <td>Sri Lanka</td>\n",
              "      <td>Australia</td>\n",
              "      <td>8</td>\n",
              "      <td>2</td>\n",
              "      <td>Australia</td>\n",
              "      <td>128</td>\n",
              "      <td>9</td>\n",
              "      <td>130</td>\n",
              "      <td>6</td>\n",
              "      <td>0</td>\n",
              "      <td>0</td>\n",
              "      <td>Sri Lanka</td>\n",
              "      <td>0</td>\n",
              "    </tr>\n",
              "  </tbody>\n",
              "</table>\n",
              "</div>"
            ],
            "text/plain": [
              "                    Venue       Date     Team_A     Team_B  Team_A_Ranking  \\\n",
              "1076  R Premadasa Stadium 2016-09-09  Sri Lanka  Australia               8   \n",
              "\n",
              "      Team_B_Ranking     Winner  Team_A_Score  Team_A_Wickets_Lost  \\\n",
              "1076               2  Australia           128                    9   \n",
              "\n",
              "      Team_B_Score  Team_B_Wickets_Lost  Is_Home_Team_A  Is_Home_Team_B  \\\n",
              "1076           130                    6               0               0   \n",
              "\n",
              "     Toss_Winner  Toss_Decision  \n",
              "1076   Sri Lanka              0  "
            ]
          },
          "execution_count": 216,
          "metadata": {},
          "output_type": "execute_result"
        }
      ],
      "source": [
        "df.tail(1)"
      ]
    },
    {
      "cell_type": "markdown",
      "metadata": {},
      "source": [
        "Encode teams for 'Winner' and 'Toss_Winner' using the encode_team function and drop the original columns."
      ]
    },
    {
      "cell_type": "code",
      "execution_count": 217,
      "metadata": {
        "id": "hRb606Pn8qQM"
      },
      "outputs": [],
      "source": [
        "def encode_team(row, column):\n",
        "    if row[column] == row['Team_A']:\n",
        "        return 0\n",
        "    elif row[column] == row['Team_B']:\n",
        "        return 1"
      ]
    },
    {
      "cell_type": "code",
      "execution_count": 218,
      "metadata": {
        "id": "ise2lZTg8rde"
      },
      "outputs": [],
      "source": [
        "df['Winner_Encoded'] = df.apply(lambda row: encode_team(row, 'Winner'), axis=1)\n",
        "df['Toss_Winner_Encoded'] = df.apply(lambda row: encode_team(row, 'Toss_Winner'), axis=1)\n",
        "df.drop(columns=['Winner', 'Toss_Winner'], inplace=True)\n",
        "df.rename(columns={'Winner_Encoded': 'Winner', 'Toss_Winner_Encoded': 'Toss_Winner'}, inplace=True)\n"
      ]
    },
    {
      "cell_type": "markdown",
      "metadata": {},
      "source": [
        "### 3. Feature Engineering\n",
        "\n",
        "Calculate recent performance for each team, including win rate, runs scored, and wickets lost, using the calculate_recent_performance function."
      ]
    },
    {
      "cell_type": "code",
      "execution_count": 219,
      "metadata": {
        "id": "xafOayel8xZ8"
      },
      "outputs": [],
      "source": [
        "def calculate_recent_performance(team, date, df, num_matches=5):\n",
        "\n",
        "    past_matches = df[((df['Team_A'] == team) | (df['Team_B'] == team)) & (df['Date'] < date)]\n",
        "    past_matches = past_matches.sort_values(by='Date', ascending=False).head(num_matches)\n",
        "\n",
        "    wins = 0\n",
        "    for _, match in past_matches.iterrows():\n",
        "        if match['Team_A'] == team and match['Winner'] == 0:\n",
        "            wins += 1\n",
        "        elif match['Team_B'] == team and match['Winner'] == 1:\n",
        "            wins += 1\n",
        "    win_rate = (wins / num_matches) * 100\n",
        "\n",
        "    runs_scored = 0\n",
        "    wickets_lost = 0\n",
        "\n",
        "    for _, match in past_matches.iterrows():\n",
        "        if match['Team_A'] == team:\n",
        "            runs_scored += match['Team_A_Score']\n",
        "            wickets_lost += match['Team_A_Wickets_Lost']\n",
        "        elif match['Team_B'] == team:\n",
        "            runs_scored += match['Team_B_Score']\n",
        "            wickets_lost += match['Team_B_Wickets_Lost']\n",
        "\n",
        "    return win_rate, runs_scored, wickets_lost"
      ]
    },
    {
      "cell_type": "markdown",
      "metadata": {},
      "source": [
        "Add new columns for Team_A and Team_B recent form, runs, and wickets."
      ]
    },
    {
      "cell_type": "code",
      "execution_count": 220,
      "metadata": {
        "id": "X6HwhEHg8yUQ"
      },
      "outputs": [],
      "source": [
        "df[['Team_A_Recent_Form', 'Team_A_Recent_Runs', 'Team_A_Recent_Wickets']] = df.apply(\n",
        "    lambda x: pd.Series(calculate_recent_performance(x['Team_A'], x['Date'], df)), axis=1\n",
        ")\n",
        "df[['Team_B_Recent_Form', 'Team_B_Recent_Runs', 'Team_B_Recent_Wickets']] = df.apply(\n",
        "    lambda x: pd.Series(calculate_recent_performance(x['Team_B'], x['Date'], df)), axis=1\n",
        ")"
      ]
    },
    {
      "cell_type": "markdown",
      "metadata": {},
      "source": [
        "Calculate head-to-head win rates for Team_A and Team_B using the calculate_head_to_head_win_rate function and add the results as new columns."
      ]
    },
    {
      "cell_type": "code",
      "execution_count": 221,
      "metadata": {
        "id": "zlJ8k0JPh880"
      },
      "outputs": [],
      "source": [
        "def calculate_head_to_head_win_rate(team_a, team_b, date, matches_df, num_matches=5):\n",
        "    past_matches = matches_df[((matches_df['Team_A'] == team_a) & (matches_df['Team_B'] == team_b) |\n",
        "                                (matches_df['Team_A'] == team_b) & (matches_df['Team_B'] == team_a)) & (matches_df['Date'] < date)]\n",
        "    past_matches = past_matches.sort_values(by='Date', ascending=False).head(num_matches)\n",
        "\n",
        "    wins_team_a = 0\n",
        "    wins_team_b = 0\n",
        "\n",
        "    for index, match in past_matches.iterrows():\n",
        "        if match['Team_A'] == team_a and match['Winner'] == 0:\n",
        "            wins_team_a += 1\n",
        "        elif match['Team_B'] == team_a and match['Winner'] == 1:\n",
        "            wins_team_a += 1\n",
        "        elif match['Team_A'] == team_b and match['Winner'] == 0:\n",
        "            wins_team_b += 1\n",
        "        elif match['Team_B'] == team_b and match['Winner'] == 1:\n",
        "            wins_team_b += 1\n",
        "\n",
        "    # Calculate the win rates\n",
        "    total_matches = len(past_matches)\n",
        "    win_rate_team_a = (wins_team_a / total_matches) * 100 if total_matches > 0 else 0\n",
        "    win_rate_team_b = (wins_team_b / total_matches) * 100 if total_matches > 0 else 0\n",
        "\n",
        "    return win_rate_team_a, win_rate_team_b"
      ]
    },
    {
      "cell_type": "code",
      "execution_count": 222,
      "metadata": {
        "id": "hV_baqC6iDEe"
      },
      "outputs": [],
      "source": [
        "df[['win_rate_team_a', 'win_rate_team_b']] = df.apply(lambda x: pd.Series(calculate_head_to_head_win_rate(x['Team_A'], x['Team_B'], x['Date'], df)), axis=1)"
      ]
    },
    {
      "cell_type": "code",
      "execution_count": 223,
      "metadata": {
        "colab": {
          "base_uri": "https://localhost:8080/",
          "height": 165
        },
        "id": "OJsECzP18zzi",
        "outputId": "e1aa97d8-058d-4468-85fa-946559c8ba22"
      },
      "outputs": [
        {
          "data": {
            "text/html": [
              "<div>\n",
              "<style scoped>\n",
              "    .dataframe tbody tr th:only-of-type {\n",
              "        vertical-align: middle;\n",
              "    }\n",
              "\n",
              "    .dataframe tbody tr th {\n",
              "        vertical-align: top;\n",
              "    }\n",
              "\n",
              "    .dataframe thead th {\n",
              "        text-align: right;\n",
              "    }\n",
              "</style>\n",
              "<table border=\"1\" class=\"dataframe\">\n",
              "  <thead>\n",
              "    <tr style=\"text-align: right;\">\n",
              "      <th></th>\n",
              "      <th>Venue</th>\n",
              "      <th>Date</th>\n",
              "      <th>Team_A</th>\n",
              "      <th>Team_B</th>\n",
              "      <th>Team_A_Ranking</th>\n",
              "      <th>Team_B_Ranking</th>\n",
              "      <th>Team_A_Score</th>\n",
              "      <th>Team_A_Wickets_Lost</th>\n",
              "      <th>Team_B_Score</th>\n",
              "      <th>Team_B_Wickets_Lost</th>\n",
              "      <th>...</th>\n",
              "      <th>Winner</th>\n",
              "      <th>Toss_Winner</th>\n",
              "      <th>Team_A_Recent_Form</th>\n",
              "      <th>Team_A_Recent_Runs</th>\n",
              "      <th>Team_A_Recent_Wickets</th>\n",
              "      <th>Team_B_Recent_Form</th>\n",
              "      <th>Team_B_Recent_Runs</th>\n",
              "      <th>Team_B_Recent_Wickets</th>\n",
              "      <th>win_rate_team_a</th>\n",
              "      <th>win_rate_team_b</th>\n",
              "    </tr>\n",
              "  </thead>\n",
              "  <tbody>\n",
              "    <tr>\n",
              "      <th>1076</th>\n",
              "      <td>R Premadasa Stadium</td>\n",
              "      <td>2016-09-09</td>\n",
              "      <td>Sri Lanka</td>\n",
              "      <td>Australia</td>\n",
              "      <td>8</td>\n",
              "      <td>2</td>\n",
              "      <td>128</td>\n",
              "      <td>9</td>\n",
              "      <td>130</td>\n",
              "      <td>6</td>\n",
              "      <td>...</td>\n",
              "      <td>1</td>\n",
              "      <td>0</td>\n",
              "      <td>0.0</td>\n",
              "      <td>721.0</td>\n",
              "      <td>46.0</td>\n",
              "      <td>60.0</td>\n",
              "      <td>907.0</td>\n",
              "      <td>29.0</td>\n",
              "      <td>80.0</td>\n",
              "      <td>20.0</td>\n",
              "    </tr>\n",
              "  </tbody>\n",
              "</table>\n",
              "<p>1 rows × 23 columns</p>\n",
              "</div>"
            ],
            "text/plain": [
              "                    Venue       Date     Team_A     Team_B  Team_A_Ranking  \\\n",
              "1076  R Premadasa Stadium 2016-09-09  Sri Lanka  Australia               8   \n",
              "\n",
              "      Team_B_Ranking  Team_A_Score  Team_A_Wickets_Lost  Team_B_Score  \\\n",
              "1076               2           128                    9           130   \n",
              "\n",
              "      Team_B_Wickets_Lost  ...  Winner  Toss_Winner  Team_A_Recent_Form  \\\n",
              "1076                    6  ...       1            0                 0.0   \n",
              "\n",
              "      Team_A_Recent_Runs  Team_A_Recent_Wickets  Team_B_Recent_Form  \\\n",
              "1076               721.0                   46.0                60.0   \n",
              "\n",
              "      Team_B_Recent_Runs  Team_B_Recent_Wickets  win_rate_team_a  \\\n",
              "1076               907.0                   29.0             80.0   \n",
              "\n",
              "      win_rate_team_b  \n",
              "1076             20.0  \n",
              "\n",
              "[1 rows x 23 columns]"
            ]
          },
          "execution_count": 223,
          "metadata": {},
          "output_type": "execute_result"
        }
      ],
      "source": [
        "df.tail(1)"
      ]
    },
    {
      "cell_type": "markdown",
      "metadata": {},
      "source": [
        "### Date Features:\n",
        "\n",
        "Extract the year, month, and day from the Date column and add them as new features."
      ]
    },
    {
      "cell_type": "code",
      "execution_count": 224,
      "metadata": {
        "id": "wkK0NbY2q3Ur"
      },
      "outputs": [],
      "source": [
        "df['Year']=df['Date'].dt.year\n",
        "df['Month']=df['Date'].dt.month\n",
        "df['Day']=df['Date'].dt.day"
      ]
    },
    {
      "cell_type": "code",
      "execution_count": 225,
      "metadata": {
        "colab": {
          "base_uri": "https://localhost:8080/",
          "height": 165
        },
        "id": "qPYC8flLtNyJ",
        "outputId": "de9519c2-d88e-48c1-f511-b13c004a84c4"
      },
      "outputs": [
        {
          "data": {
            "text/html": [
              "<div>\n",
              "<style scoped>\n",
              "    .dataframe tbody tr th:only-of-type {\n",
              "        vertical-align: middle;\n",
              "    }\n",
              "\n",
              "    .dataframe tbody tr th {\n",
              "        vertical-align: top;\n",
              "    }\n",
              "\n",
              "    .dataframe thead th {\n",
              "        text-align: right;\n",
              "    }\n",
              "</style>\n",
              "<table border=\"1\" class=\"dataframe\">\n",
              "  <thead>\n",
              "    <tr style=\"text-align: right;\">\n",
              "      <th></th>\n",
              "      <th>Venue</th>\n",
              "      <th>Date</th>\n",
              "      <th>Team_A</th>\n",
              "      <th>Team_B</th>\n",
              "      <th>Team_A_Ranking</th>\n",
              "      <th>Team_B_Ranking</th>\n",
              "      <th>Team_A_Score</th>\n",
              "      <th>Team_A_Wickets_Lost</th>\n",
              "      <th>Team_B_Score</th>\n",
              "      <th>Team_B_Wickets_Lost</th>\n",
              "      <th>...</th>\n",
              "      <th>Team_A_Recent_Runs</th>\n",
              "      <th>Team_A_Recent_Wickets</th>\n",
              "      <th>Team_B_Recent_Form</th>\n",
              "      <th>Team_B_Recent_Runs</th>\n",
              "      <th>Team_B_Recent_Wickets</th>\n",
              "      <th>win_rate_team_a</th>\n",
              "      <th>win_rate_team_b</th>\n",
              "      <th>Year</th>\n",
              "      <th>Month</th>\n",
              "      <th>Day</th>\n",
              "    </tr>\n",
              "  </thead>\n",
              "  <tbody>\n",
              "    <tr>\n",
              "      <th>1076</th>\n",
              "      <td>R Premadasa Stadium</td>\n",
              "      <td>2016-09-09</td>\n",
              "      <td>Sri Lanka</td>\n",
              "      <td>Australia</td>\n",
              "      <td>8</td>\n",
              "      <td>2</td>\n",
              "      <td>128</td>\n",
              "      <td>9</td>\n",
              "      <td>130</td>\n",
              "      <td>6</td>\n",
              "      <td>...</td>\n",
              "      <td>721.0</td>\n",
              "      <td>46.0</td>\n",
              "      <td>60.0</td>\n",
              "      <td>907.0</td>\n",
              "      <td>29.0</td>\n",
              "      <td>80.0</td>\n",
              "      <td>20.0</td>\n",
              "      <td>2016</td>\n",
              "      <td>9</td>\n",
              "      <td>9</td>\n",
              "    </tr>\n",
              "  </tbody>\n",
              "</table>\n",
              "<p>1 rows × 26 columns</p>\n",
              "</div>"
            ],
            "text/plain": [
              "                    Venue       Date     Team_A     Team_B  Team_A_Ranking  \\\n",
              "1076  R Premadasa Stadium 2016-09-09  Sri Lanka  Australia               8   \n",
              "\n",
              "      Team_B_Ranking  Team_A_Score  Team_A_Wickets_Lost  Team_B_Score  \\\n",
              "1076               2           128                    9           130   \n",
              "\n",
              "      Team_B_Wickets_Lost  ...  Team_A_Recent_Runs  Team_A_Recent_Wickets  \\\n",
              "1076                    6  ...               721.0                   46.0   \n",
              "\n",
              "      Team_B_Recent_Form  Team_B_Recent_Runs  Team_B_Recent_Wickets  \\\n",
              "1076                60.0               907.0                   29.0   \n",
              "\n",
              "      win_rate_team_a  win_rate_team_b  Year  Month  Day  \n",
              "1076             80.0             20.0  2016      9    9  \n",
              "\n",
              "[1 rows x 26 columns]"
            ]
          },
          "execution_count": 225,
          "metadata": {},
          "output_type": "execute_result"
        }
      ],
      "source": [
        "df.tail(1)"
      ]
    },
    {
      "cell_type": "markdown",
      "metadata": {},
      "source": [
        "### 4. Model Training and Evaluation"
      ]
    },
    {
      "cell_type": "markdown",
      "metadata": {},
      "source": [
        "    1. Define the features to be used for training the model, including date components, venue, team rankings, recent form, and head-to-head win rates.\n",
        "\n",
        "    2. Set Winner as the target variable."
      ]
    },
    {
      "cell_type": "code",
      "execution_count": 226,
      "metadata": {
        "id": "-rmwYxnD8_oF"
      },
      "outputs": [],
      "source": [
        "features = [\n",
        "    'Day' , 'Month', 'Year' ,'Venue', 'Is_Home_Team_A', 'Is_Home_Team_B', 'Toss_Decision',\n",
        "    'Toss_Winner', 'Team_A_Ranking', 'Team_B_Ranking', 'Team_A_Recent_Form',\n",
        "    'Team_B_Recent_Form', 'Team_A_Recent_Runs', 'Team_A_Recent_Wickets',\n",
        "    'Team_B_Recent_Runs', 'Team_B_Recent_Wickets' ,'win_rate_team_a',\n",
        "       'win_rate_team_b'\n",
        "]\n",
        "target = 'Winner'"
      ]
    },
    {
      "cell_type": "markdown",
      "metadata": {},
      "source": [
        "\n",
        "Split the data into training and test sets with a 75-25 split."
      ]
    },
    {
      "cell_type": "code",
      "execution_count": 227,
      "metadata": {
        "id": "-WZkolrc9FHj"
      },
      "outputs": [],
      "source": [
        "X = df[features]\n",
        "y = df[target]\n",
        "X_train, X_test, y_train, y_test = train_test_split(X, y, test_size=0.25, random_state=42)"
      ]
    },
    {
      "cell_type": "markdown",
      "metadata": {},
      "source": [
        "Use ColumnTransformer to preprocess features:\n",
        "\n",
        "    1. One-hot encode the Venue feature.\n",
        "    2. Standardize numerical features.\n",
        "    3. Pass binary features through without change."
      ]
    },
    {
      "cell_type": "code",
      "execution_count": 228,
      "metadata": {
        "id": "aaVscjl-9HlY"
      },
      "outputs": [],
      "source": [
        "preprocessor = ColumnTransformer(\n",
        "    transformers=[\n",
        "        ('venue', OneHotEncoder(handle_unknown='ignore'), ['Venue']),\n",
        "        ('num', StandardScaler(), [\n",
        "            'Day' , 'Month', 'Year','Team_A_Ranking', 'Team_B_Ranking',\n",
        "            'Team_A_Recent_Form', 'Team_B_Recent_Form', 'Team_A_Recent_Runs',\n",
        "            'Team_A_Recent_Wickets', 'Team_B_Recent_Runs', 'Team_B_Recent_Wickets' ,'win_rate_team_a',\n",
        "       'win_rate_team_b'\n",
        "        ]),\n",
        "        ('bin', 'passthrough', ['Is_Home_Team_A', 'Is_Home_Team_B', 'Toss_Decision', 'Toss_Winner'])\n",
        "    ]\n",
        ")"
      ]
    },
    {
      "cell_type": "markdown",
      "metadata": {},
      "source": [
        "Model Training:\n",
        "\n",
        "     1. Define a Pipeline with the preprocessing steps and a GradientBoostingClassifier model.\n",
        "     2. Train the model using the training data.\n",
        "    "
      ]
    },
    {
      "cell_type": "code",
      "execution_count": 229,
      "metadata": {
        "id": "fuVaLHCfiIbr"
      },
      "outputs": [],
      "source": [
        "from sklearn.ensemble import GradientBoostingClassifier\n",
        "pipeline = Pipeline([\n",
        "    ('preprocessor', preprocessor),\n",
        "    ('model', GradientBoostingClassifier(n_estimators=50, criterion='squared_error', random_state=42))\n",
        "])"
      ]
    },
    {
      "cell_type": "code",
      "execution_count": 230,
      "metadata": {
        "colab": {
          "base_uri": "https://localhost:8080/",
          "height": 193
        },
        "id": "2Dhw063niRPZ",
        "outputId": "ad7ad8c8-b13d-46ab-ed41-84779fa3bdba"
      },
      "outputs": [
        {
          "data": {
            "text/html": [
              "<style>#sk-container-id-12 {color: black;background-color: white;}#sk-container-id-12 pre{padding: 0;}#sk-container-id-12 div.sk-toggleable {background-color: white;}#sk-container-id-12 label.sk-toggleable__label {cursor: pointer;display: block;width: 100%;margin-bottom: 0;padding: 0.3em;box-sizing: border-box;text-align: center;}#sk-container-id-12 label.sk-toggleable__label-arrow:before {content: \"▸\";float: left;margin-right: 0.25em;color: #696969;}#sk-container-id-12 label.sk-toggleable__label-arrow:hover:before {color: black;}#sk-container-id-12 div.sk-estimator:hover label.sk-toggleable__label-arrow:before {color: black;}#sk-container-id-12 div.sk-toggleable__content {max-height: 0;max-width: 0;overflow: hidden;text-align: left;background-color: #f0f8ff;}#sk-container-id-12 div.sk-toggleable__content pre {margin: 0.2em;color: black;border-radius: 0.25em;background-color: #f0f8ff;}#sk-container-id-12 input.sk-toggleable__control:checked~div.sk-toggleable__content {max-height: 200px;max-width: 100%;overflow: auto;}#sk-container-id-12 input.sk-toggleable__control:checked~label.sk-toggleable__label-arrow:before {content: \"▾\";}#sk-container-id-12 div.sk-estimator input.sk-toggleable__control:checked~label.sk-toggleable__label {background-color: #d4ebff;}#sk-container-id-12 div.sk-label input.sk-toggleable__control:checked~label.sk-toggleable__label {background-color: #d4ebff;}#sk-container-id-12 input.sk-hidden--visually {border: 0;clip: rect(1px 1px 1px 1px);clip: rect(1px, 1px, 1px, 1px);height: 1px;margin: -1px;overflow: hidden;padding: 0;position: absolute;width: 1px;}#sk-container-id-12 div.sk-estimator {font-family: monospace;background-color: #f0f8ff;border: 1px dotted black;border-radius: 0.25em;box-sizing: border-box;margin-bottom: 0.5em;}#sk-container-id-12 div.sk-estimator:hover {background-color: #d4ebff;}#sk-container-id-12 div.sk-parallel-item::after {content: \"\";width: 100%;border-bottom: 1px solid gray;flex-grow: 1;}#sk-container-id-12 div.sk-label:hover label.sk-toggleable__label {background-color: #d4ebff;}#sk-container-id-12 div.sk-serial::before {content: \"\";position: absolute;border-left: 1px solid gray;box-sizing: border-box;top: 0;bottom: 0;left: 50%;z-index: 0;}#sk-container-id-12 div.sk-serial {display: flex;flex-direction: column;align-items: center;background-color: white;padding-right: 0.2em;padding-left: 0.2em;position: relative;}#sk-container-id-12 div.sk-item {position: relative;z-index: 1;}#sk-container-id-12 div.sk-parallel {display: flex;align-items: stretch;justify-content: center;background-color: white;position: relative;}#sk-container-id-12 div.sk-item::before, #sk-container-id-12 div.sk-parallel-item::before {content: \"\";position: absolute;border-left: 1px solid gray;box-sizing: border-box;top: 0;bottom: 0;left: 50%;z-index: -1;}#sk-container-id-12 div.sk-parallel-item {display: flex;flex-direction: column;z-index: 1;position: relative;background-color: white;}#sk-container-id-12 div.sk-parallel-item:first-child::after {align-self: flex-end;width: 50%;}#sk-container-id-12 div.sk-parallel-item:last-child::after {align-self: flex-start;width: 50%;}#sk-container-id-12 div.sk-parallel-item:only-child::after {width: 0;}#sk-container-id-12 div.sk-dashed-wrapped {border: 1px dashed gray;margin: 0 0.4em 0.5em 0.4em;box-sizing: border-box;padding-bottom: 0.4em;background-color: white;}#sk-container-id-12 div.sk-label label {font-family: monospace;font-weight: bold;display: inline-block;line-height: 1.2em;}#sk-container-id-12 div.sk-label-container {text-align: center;}#sk-container-id-12 div.sk-container {/* jupyter's `normalize.less` sets `[hidden] { display: none; }` but bootstrap.min.css set `[hidden] { display: none !important; }` so we also need the `!important` here to be able to override the default hidden behavior on the sphinx rendered scikit-learn.org. See: https://github.com/scikit-learn/scikit-learn/issues/21755 */display: inline-block !important;position: relative;}#sk-container-id-12 div.sk-text-repr-fallback {display: none;}</style><div id=\"sk-container-id-12\" class=\"sk-top-container\"><div class=\"sk-text-repr-fallback\"><pre>Pipeline(steps=[(&#x27;preprocessor&#x27;,\n",
              "                 ColumnTransformer(transformers=[(&#x27;venue&#x27;,\n",
              "                                                  OneHotEncoder(handle_unknown=&#x27;ignore&#x27;),\n",
              "                                                  [&#x27;Venue&#x27;]),\n",
              "                                                 (&#x27;num&#x27;, StandardScaler(),\n",
              "                                                  [&#x27;Day&#x27;, &#x27;Month&#x27;, &#x27;Year&#x27;,\n",
              "                                                   &#x27;Team_A_Ranking&#x27;,\n",
              "                                                   &#x27;Team_B_Ranking&#x27;,\n",
              "                                                   &#x27;Team_A_Recent_Form&#x27;,\n",
              "                                                   &#x27;Team_B_Recent_Form&#x27;,\n",
              "                                                   &#x27;Team_A_Recent_Runs&#x27;,\n",
              "                                                   &#x27;Team_A_Recent_Wickets&#x27;,\n",
              "                                                   &#x27;Team_B_Recent_Runs&#x27;,\n",
              "                                                   &#x27;Team_B_Recent_Wickets&#x27;,\n",
              "                                                   &#x27;win_rate_team_a&#x27;,\n",
              "                                                   &#x27;win_rate_team_b&#x27;]),\n",
              "                                                 (&#x27;bin&#x27;, &#x27;passthrough&#x27;,\n",
              "                                                  [&#x27;Is_Home_Team_A&#x27;,\n",
              "                                                   &#x27;Is_Home_Team_B&#x27;,\n",
              "                                                   &#x27;Toss_Decision&#x27;,\n",
              "                                                   &#x27;Toss_Winner&#x27;])])),\n",
              "                (&#x27;model&#x27;,\n",
              "                 GradientBoostingClassifier(criterion=&#x27;squared_error&#x27;,\n",
              "                                            n_estimators=50,\n",
              "                                            random_state=42))])</pre><b>In a Jupyter environment, please rerun this cell to show the HTML representation or trust the notebook. <br />On GitHub, the HTML representation is unable to render, please try loading this page with nbviewer.org.</b></div><div class=\"sk-container\" hidden><div class=\"sk-item sk-dashed-wrapped\"><div class=\"sk-label-container\"><div class=\"sk-label sk-toggleable\"><input class=\"sk-toggleable__control sk-hidden--visually\" id=\"sk-estimator-id-98\" type=\"checkbox\" ><label for=\"sk-estimator-id-98\" class=\"sk-toggleable__label sk-toggleable__label-arrow\">Pipeline</label><div class=\"sk-toggleable__content\"><pre>Pipeline(steps=[(&#x27;preprocessor&#x27;,\n",
              "                 ColumnTransformer(transformers=[(&#x27;venue&#x27;,\n",
              "                                                  OneHotEncoder(handle_unknown=&#x27;ignore&#x27;),\n",
              "                                                  [&#x27;Venue&#x27;]),\n",
              "                                                 (&#x27;num&#x27;, StandardScaler(),\n",
              "                                                  [&#x27;Day&#x27;, &#x27;Month&#x27;, &#x27;Year&#x27;,\n",
              "                                                   &#x27;Team_A_Ranking&#x27;,\n",
              "                                                   &#x27;Team_B_Ranking&#x27;,\n",
              "                                                   &#x27;Team_A_Recent_Form&#x27;,\n",
              "                                                   &#x27;Team_B_Recent_Form&#x27;,\n",
              "                                                   &#x27;Team_A_Recent_Runs&#x27;,\n",
              "                                                   &#x27;Team_A_Recent_Wickets&#x27;,\n",
              "                                                   &#x27;Team_B_Recent_Runs&#x27;,\n",
              "                                                   &#x27;Team_B_Recent_Wickets&#x27;,\n",
              "                                                   &#x27;win_rate_team_a&#x27;,\n",
              "                                                   &#x27;win_rate_team_b&#x27;]),\n",
              "                                                 (&#x27;bin&#x27;, &#x27;passthrough&#x27;,\n",
              "                                                  [&#x27;Is_Home_Team_A&#x27;,\n",
              "                                                   &#x27;Is_Home_Team_B&#x27;,\n",
              "                                                   &#x27;Toss_Decision&#x27;,\n",
              "                                                   &#x27;Toss_Winner&#x27;])])),\n",
              "                (&#x27;model&#x27;,\n",
              "                 GradientBoostingClassifier(criterion=&#x27;squared_error&#x27;,\n",
              "                                            n_estimators=50,\n",
              "                                            random_state=42))])</pre></div></div></div><div class=\"sk-serial\"><div class=\"sk-item sk-dashed-wrapped\"><div class=\"sk-label-container\"><div class=\"sk-label sk-toggleable\"><input class=\"sk-toggleable__control sk-hidden--visually\" id=\"sk-estimator-id-99\" type=\"checkbox\" ><label for=\"sk-estimator-id-99\" class=\"sk-toggleable__label sk-toggleable__label-arrow\">preprocessor: ColumnTransformer</label><div class=\"sk-toggleable__content\"><pre>ColumnTransformer(transformers=[(&#x27;venue&#x27;,\n",
              "                                 OneHotEncoder(handle_unknown=&#x27;ignore&#x27;),\n",
              "                                 [&#x27;Venue&#x27;]),\n",
              "                                (&#x27;num&#x27;, StandardScaler(),\n",
              "                                 [&#x27;Day&#x27;, &#x27;Month&#x27;, &#x27;Year&#x27;, &#x27;Team_A_Ranking&#x27;,\n",
              "                                  &#x27;Team_B_Ranking&#x27;, &#x27;Team_A_Recent_Form&#x27;,\n",
              "                                  &#x27;Team_B_Recent_Form&#x27;, &#x27;Team_A_Recent_Runs&#x27;,\n",
              "                                  &#x27;Team_A_Recent_Wickets&#x27;, &#x27;Team_B_Recent_Runs&#x27;,\n",
              "                                  &#x27;Team_B_Recent_Wickets&#x27;, &#x27;win_rate_team_a&#x27;,\n",
              "                                  &#x27;win_rate_team_b&#x27;]),\n",
              "                                (&#x27;bin&#x27;, &#x27;passthrough&#x27;,\n",
              "                                 [&#x27;Is_Home_Team_A&#x27;, &#x27;Is_Home_Team_B&#x27;,\n",
              "                                  &#x27;Toss_Decision&#x27;, &#x27;Toss_Winner&#x27;])])</pre></div></div></div><div class=\"sk-parallel\"><div class=\"sk-parallel-item\"><div class=\"sk-item\"><div class=\"sk-label-container\"><div class=\"sk-label sk-toggleable\"><input class=\"sk-toggleable__control sk-hidden--visually\" id=\"sk-estimator-id-100\" type=\"checkbox\" ><label for=\"sk-estimator-id-100\" class=\"sk-toggleable__label sk-toggleable__label-arrow\">venue</label><div class=\"sk-toggleable__content\"><pre>[&#x27;Venue&#x27;]</pre></div></div></div><div class=\"sk-serial\"><div class=\"sk-item\"><div class=\"sk-estimator sk-toggleable\"><input class=\"sk-toggleable__control sk-hidden--visually\" id=\"sk-estimator-id-101\" type=\"checkbox\" ><label for=\"sk-estimator-id-101\" class=\"sk-toggleable__label sk-toggleable__label-arrow\">OneHotEncoder</label><div class=\"sk-toggleable__content\"><pre>OneHotEncoder(handle_unknown=&#x27;ignore&#x27;)</pre></div></div></div></div></div></div><div class=\"sk-parallel-item\"><div class=\"sk-item\"><div class=\"sk-label-container\"><div class=\"sk-label sk-toggleable\"><input class=\"sk-toggleable__control sk-hidden--visually\" id=\"sk-estimator-id-102\" type=\"checkbox\" ><label for=\"sk-estimator-id-102\" class=\"sk-toggleable__label sk-toggleable__label-arrow\">num</label><div class=\"sk-toggleable__content\"><pre>[&#x27;Day&#x27;, &#x27;Month&#x27;, &#x27;Year&#x27;, &#x27;Team_A_Ranking&#x27;, &#x27;Team_B_Ranking&#x27;, &#x27;Team_A_Recent_Form&#x27;, &#x27;Team_B_Recent_Form&#x27;, &#x27;Team_A_Recent_Runs&#x27;, &#x27;Team_A_Recent_Wickets&#x27;, &#x27;Team_B_Recent_Runs&#x27;, &#x27;Team_B_Recent_Wickets&#x27;, &#x27;win_rate_team_a&#x27;, &#x27;win_rate_team_b&#x27;]</pre></div></div></div><div class=\"sk-serial\"><div class=\"sk-item\"><div class=\"sk-estimator sk-toggleable\"><input class=\"sk-toggleable__control sk-hidden--visually\" id=\"sk-estimator-id-103\" type=\"checkbox\" ><label for=\"sk-estimator-id-103\" class=\"sk-toggleable__label sk-toggleable__label-arrow\">StandardScaler</label><div class=\"sk-toggleable__content\"><pre>StandardScaler()</pre></div></div></div></div></div></div><div class=\"sk-parallel-item\"><div class=\"sk-item\"><div class=\"sk-label-container\"><div class=\"sk-label sk-toggleable\"><input class=\"sk-toggleable__control sk-hidden--visually\" id=\"sk-estimator-id-104\" type=\"checkbox\" ><label for=\"sk-estimator-id-104\" class=\"sk-toggleable__label sk-toggleable__label-arrow\">bin</label><div class=\"sk-toggleable__content\"><pre>[&#x27;Is_Home_Team_A&#x27;, &#x27;Is_Home_Team_B&#x27;, &#x27;Toss_Decision&#x27;, &#x27;Toss_Winner&#x27;]</pre></div></div></div><div class=\"sk-serial\"><div class=\"sk-item\"><div class=\"sk-estimator sk-toggleable\"><input class=\"sk-toggleable__control sk-hidden--visually\" id=\"sk-estimator-id-105\" type=\"checkbox\" ><label for=\"sk-estimator-id-105\" class=\"sk-toggleable__label sk-toggleable__label-arrow\">passthrough</label><div class=\"sk-toggleable__content\"><pre>passthrough</pre></div></div></div></div></div></div></div></div><div class=\"sk-item\"><div class=\"sk-estimator sk-toggleable\"><input class=\"sk-toggleable__control sk-hidden--visually\" id=\"sk-estimator-id-106\" type=\"checkbox\" ><label for=\"sk-estimator-id-106\" class=\"sk-toggleable__label sk-toggleable__label-arrow\">GradientBoostingClassifier</label><div class=\"sk-toggleable__content\"><pre>GradientBoostingClassifier(criterion=&#x27;squared_error&#x27;, n_estimators=50,\n",
              "                           random_state=42)</pre></div></div></div></div></div></div></div>"
            ],
            "text/plain": [
              "Pipeline(steps=[('preprocessor',\n",
              "                 ColumnTransformer(transformers=[('venue',\n",
              "                                                  OneHotEncoder(handle_unknown='ignore'),\n",
              "                                                  ['Venue']),\n",
              "                                                 ('num', StandardScaler(),\n",
              "                                                  ['Day', 'Month', 'Year',\n",
              "                                                   'Team_A_Ranking',\n",
              "                                                   'Team_B_Ranking',\n",
              "                                                   'Team_A_Recent_Form',\n",
              "                                                   'Team_B_Recent_Form',\n",
              "                                                   'Team_A_Recent_Runs',\n",
              "                                                   'Team_A_Recent_Wickets',\n",
              "                                                   'Team_B_Recent_Runs',\n",
              "                                                   'Team_B_Recent_Wickets',\n",
              "                                                   'win_rate_team_a',\n",
              "                                                   'win_rate_team_b']),\n",
              "                                                 ('bin', 'passthrough',\n",
              "                                                  ['Is_Home_Team_A',\n",
              "                                                   'Is_Home_Team_B',\n",
              "                                                   'Toss_Decision',\n",
              "                                                   'Toss_Winner'])])),\n",
              "                ('model',\n",
              "                 GradientBoostingClassifier(criterion='squared_error',\n",
              "                                            n_estimators=50,\n",
              "                                            random_state=42))])"
            ]
          },
          "execution_count": 230,
          "metadata": {},
          "output_type": "execute_result"
        }
      ],
      "source": [
        "pipeline.fit(X_train, y_train)\n"
      ]
    },
    {
      "cell_type": "markdown",
      "metadata": {},
      "source": [
        "### 4. Prediction and Evaluation:\n",
        "\n",
        "    1. Make predictions on the test set.\n",
        "    2. Print a classification report to evaluate model performan2e."
      ]
    },
    {
      "cell_type": "code",
      "execution_count": 231,
      "metadata": {
        "id": "49ZcppfBiT9F"
      },
      "outputs": [],
      "source": [
        "y_pred = pipeline.predict(X_test)"
      ]
    },
    {
      "cell_type": "code",
      "execution_count": 232,
      "metadata": {
        "colab": {
          "base_uri": "https://localhost:8080/"
        },
        "id": "MrSloxh2iVU2",
        "outputId": "118fce33-9897-4af6-d461-d676cf899f25"
      },
      "outputs": [
        {
          "name": "stdout",
          "output_type": "stream",
          "text": [
            "              precision    recall  f1-score   support\n",
            "\n",
            "           0       0.61      0.70      0.65       126\n",
            "           1       0.67      0.58      0.62       132\n",
            "\n",
            "    accuracy                           0.64       258\n",
            "   macro avg       0.64      0.64      0.63       258\n",
            "weighted avg       0.64      0.64      0.63       258\n",
            "\n"
          ]
        }
      ],
      "source": [
        "print(classification_report(y_test, y_pred))"
      ]
    },
    {
      "cell_type": "code",
      "execution_count": 233,
      "metadata": {
        "colab": {
          "base_uri": "https://localhost:8080/"
        },
        "id": "Yw0s6dZZiXD3",
        "outputId": "77c7ff71-ad37-481d-8aae-3a7cd845defb"
      },
      "outputs": [
        {
          "name": "stdout",
          "output_type": "stream",
          "text": [
            "Accuracy: 0.64\n",
            "F1-score: 0.62\n",
            "Precision: 0.67\n",
            "Recall: 0.58\n"
          ]
        }
      ],
      "source": [
        "accuracy = accuracy_score(y_test, y_pred)\n",
        "f1 = f1_score(y_test, y_pred)\n",
        "precision = precision_score(y_test, y_pred)\n",
        "recall = recall_score(y_test, y_pred)\n",
        "\n",
        "print(f'Accuracy: {accuracy:.2f}')\n",
        "print(f'F1-score: {f1:.2f}')\n",
        "print(f'Precision: {precision:.2f}')\n",
        "print(f'Recall: {recall:.2f}')\n"
      ]
    },
    {
      "cell_type": "code",
      "execution_count": 234,
      "metadata": {
        "colab": {
          "base_uri": "https://localhost:8080/",
          "height": 490
        },
        "id": "XwJ-M12hiYf8",
        "outputId": "b579c8c8-0aba-44a5-94c1-3876c91643dd"
      },
      "outputs": [
        {
          "data": {
            "text/plain": [
              "Text(0.5, 1.0, 'gradient Boosting Classifier')"
            ]
          },
          "execution_count": 234,
          "metadata": {},
          "output_type": "execute_result"
        },
        {
          "data": {
            "image/png": "[encoded data removed]",
            "text/plain": [
              "<Figure size 640x480 with 2 Axes>"
            ]
          },
          "metadata": {},
          "output_type": "display_data"
        }
      ],
      "source": [
        "matrix = confusion_matrix(y_test, y_pred)\n",
        "cm = ConfusionMatrixDisplay(confusion_matrix=matrix, display_labels=['Win', 'Lost'])\n",
        "cm.plot()\n",
        "plt.title(label='gradient Boosting Classifier')"
      ]
    },
    {
      "cell_type": "markdown",
      "metadata": {},
      "source": [
        "### Feature Importance Analysis"
      ]
    },
    {
      "cell_type": "markdown",
      "metadata": {},
      "source": [
        "    1. Get the feature importances from the model\n"
      ]
    },
    {
      "cell_type": "code",
      "execution_count": 235,
      "metadata": {},
      "outputs": [],
      "source": [
        "classifier = pipeline.named_steps['model']\n",
        "importances = classifier.feature_importances_"
      ]
    },
    {
      "cell_type": "markdown",
      "metadata": {},
      "source": [
        "    2. Get the feature names from the preprocessor"
      ]
    },
    {
      "cell_type": "code",
      "execution_count": 236,
      "metadata": {},
      "outputs": [],
      "source": [
        "onehot_columns = pipeline.named_steps['preprocessor'].named_transformers_['venue'].get_feature_names_out(['Venue'])\n",
        "all_feature_names = np.concatenate([\n",
        "    [\n",
        "        'Day', 'Month', 'Year','Team_A_Ranking', 'Team_B_Ranking',\n",
        "        'Team_A_Recent_Form', 'Team_B_Recent_Form', 'Team_A_Recent_Runs',\n",
        "        'Team_A_Recent_Wickets', 'Team_B_Recent_Runs', 'Team_B_Recent_Wickets',\n",
        "        'win_rate_team_a', 'win_rate_team_b',\n",
        "        'Is_Home_Team_A', 'Is_Home_Team_B', 'Toss_Decision', 'Toss_Winner'\n",
        "    ],\n",
        "    onehot_columns\n",
        "])\n"
      ]
    },
    {
      "cell_type": "markdown",
      "metadata": {},
      "source": [
        "    3. Create a DataFrame for the feature importances"
      ]
    },
    {
      "cell_type": "code",
      "execution_count": 237,
      "metadata": {},
      "outputs": [],
      "source": [
        "feature_importance_df = pd.DataFrame({\n",
        "    'Feature': all_feature_names,\n",
        "    'Importance': importances\n",
        "})"
      ]
    },
    {
      "cell_type": "markdown",
      "metadata": {},
      "source": [
        "    4. Summarize venue importances if they dominate"
      ]
    },
    {
      "cell_type": "code",
      "execution_count": 238,
      "metadata": {},
      "outputs": [],
      "source": [
        "venue_importances = feature_importance_df[feature_importance_df['Feature'].str.startswith('Venue')]['Importance'].sum()\n",
        "other_importances = feature_importance_df[~feature_importance_df['Feature'].str.startswith('Venue')]"
      ]
    },
    {
      "cell_type": "markdown",
      "metadata": {},
      "source": [
        "\n",
        "    5. Print the importances"
      ]
    },
    {
      "cell_type": "code",
      "execution_count": 239,
      "metadata": {
        "colab": {
          "base_uri": "https://localhost:8080/"
        },
        "id": "nWjcUjaQr8DN",
        "outputId": "7ab80924-eea7-4662-8399-12b73c05c752"
      },
      "outputs": [
        {
          "name": "stdout",
          "output_type": "stream",
          "text": [
            "Total Venue Importance: 0.9820178414644996\n",
            "Other Features Importance:\n",
            "                  Feature  Importance\n",
            "15          Toss_Decision    0.011612\n",
            "2                    Year    0.005088\n",
            "4          Team_B_Ranking    0.001282\n",
            "0                     Day    0.000000\n",
            "10  Team_B_Recent_Wickets    0.000000\n",
            "14         Is_Home_Team_B    0.000000\n",
            "13         Is_Home_Team_A    0.000000\n",
            "12        win_rate_team_b    0.000000\n",
            "11        win_rate_team_a    0.000000\n",
            "8   Team_A_Recent_Wickets    0.000000\n",
            "9      Team_B_Recent_Runs    0.000000\n",
            "1                   Month    0.000000\n",
            "7      Team_A_Recent_Runs    0.000000\n",
            "6      Team_B_Recent_Form    0.000000\n",
            "5      Team_A_Recent_Form    0.000000\n",
            "3          Team_A_Ranking    0.000000\n",
            "16            Toss_Winner    0.000000\n"
          ]
        }
      ],
      "source": [
        "print(\"Total Venue Importance:\", venue_importances)\n",
        "print(\"Other Features Importance:\")\n",
        "print(other_importances.sort_values(by='Importance', ascending=False))\n"
      ]
    },
    {
      "cell_type": "markdown",
      "metadata": {},
      "source": [
        "The total importance of venue features was found to be very high, suggesting they dominate the model's decision-making process. To assess the impact of this, we drop the venue features and re-train the model."
      ]
    },
    {
      "cell_type": "markdown",
      "metadata": {},
      "source": [
        "#### Re-train the model"
      ]
    },
    {
      "cell_type": "markdown",
      "metadata": {},
      "source": [
        "    1. Drop the Venue column and re-train the model\n",
        "    2. Split the data into training and testing sets"
      ]
    },
    {
      "cell_type": "code",
      "execution_count": 240,
      "metadata": {},
      "outputs": [],
      "source": [
        "X_no_venue = X.drop(columns=['Venue'])\n",
        "\n",
        "\n",
        "X_train_no_venue, X_test_no_venue, y_train, y_test = train_test_split(X_no_venue, y, test_size=0.2, random_state=42)\n"
      ]
    },
    {
      "cell_type": "markdown",
      "metadata": {},
      "source": [
        "    3. Define the preprocessor without Venue"
      ]
    },
    {
      "cell_type": "code",
      "execution_count": 241,
      "metadata": {},
      "outputs": [],
      "source": [
        "preprocessor_no_venue = ColumnTransformer(\n",
        "    transformers=[\n",
        "        ('num', StandardScaler(), [\n",
        "            'Day', 'Month', 'Year','Team_A_Ranking', 'Team_B_Ranking',\n",
        "            'Team_A_Recent_Form', 'Team_B_Recent_Form', 'Team_A_Recent_Runs',\n",
        "            'Team_A_Recent_Wickets', 'Team_B_Recent_Runs', 'Team_B_Recent_Wickets' ,'win_rate_team_a',\n",
        "            'win_rate_team_b'\n",
        "        ]),\n",
        "        ('bin', 'passthrough', ['Is_Home_Team_A', 'Is_Home_Team_B', 'Toss_Decision', 'Toss_Winner'])\n",
        "    ]\n",
        ")\n"
      ]
    },
    {
      "cell_type": "markdown",
      "metadata": {},
      "source": [
        "    4. Create the pipeline without Venue and fit the pipeline"
      ]
    },
    {
      "cell_type": "code",
      "execution_count": 242,
      "metadata": {},
      "outputs": [],
      "source": [
        "pipeline_no_venue = Pipeline(steps=[\n",
        "    ('preprocessor', preprocessor_no_venue),\n",
        "    ('classifier', GradientBoostingClassifier(random_state=42))\n",
        "])\n"
      ]
    },
    {
      "cell_type": "code",
      "execution_count": 243,
      "metadata": {},
      "outputs": [
        {
          "data": {
            "text/html": [
              "<style>#sk-container-id-13 {color: black;background-color: white;}#sk-container-id-13 pre{padding: 0;}#sk-container-id-13 div.sk-toggleable {background-color: white;}#sk-container-id-13 label.sk-toggleable__label {cursor: pointer;display: block;width: 100%;margin-bottom: 0;padding: 0.3em;box-sizing: border-box;text-align: center;}#sk-container-id-13 label.sk-toggleable__label-arrow:before {content: \"▸\";float: left;margin-right: 0.25em;color: #696969;}#sk-container-id-13 label.sk-toggleable__label-arrow:hover:before {color: black;}#sk-container-id-13 div.sk-estimator:hover label.sk-toggleable__label-arrow:before {color: black;}#sk-container-id-13 div.sk-toggleable__content {max-height: 0;max-width: 0;overflow: hidden;text-align: left;background-color: #f0f8ff;}#sk-container-id-13 div.sk-toggleable__content pre {margin: 0.2em;color: black;border-radius: 0.25em;background-color: #f0f8ff;}#sk-container-id-13 input.sk-toggleable__control:checked~div.sk-toggleable__content {max-height: 200px;max-width: 100%;overflow: auto;}#sk-container-id-13 input.sk-toggleable__control:checked~label.sk-toggleable__label-arrow:before {content: \"▾\";}#sk-container-id-13 div.sk-estimator input.sk-toggleable__control:checked~label.sk-toggleable__label {background-color: #d4ebff;}#sk-container-id-13 div.sk-label input.sk-toggleable__control:checked~label.sk-toggleable__label {background-color: #d4ebff;}#sk-container-id-13 input.sk-hidden--visually {border: 0;clip: rect(1px 1px 1px 1px);clip: rect(1px, 1px, 1px, 1px);height: 1px;margin: -1px;overflow: hidden;padding: 0;position: absolute;width: 1px;}#sk-container-id-13 div.sk-estimator {font-family: monospace;background-color: #f0f8ff;border: 1px dotted black;border-radius: 0.25em;box-sizing: border-box;margin-bottom: 0.5em;}#sk-container-id-13 div.sk-estimator:hover {background-color: #d4ebff;}#sk-container-id-13 div.sk-parallel-item::after {content: \"\";width: 100%;border-bottom: 1px solid gray;flex-grow: 1;}#sk-container-id-13 div.sk-label:hover label.sk-toggleable__label {background-color: #d4ebff;}#sk-container-id-13 div.sk-serial::before {content: \"\";position: absolute;border-left: 1px solid gray;box-sizing: border-box;top: 0;bottom: 0;left: 50%;z-index: 0;}#sk-container-id-13 div.sk-serial {display: flex;flex-direction: column;align-items: center;background-color: white;padding-right: 0.2em;padding-left: 0.2em;position: relative;}#sk-container-id-13 div.sk-item {position: relative;z-index: 1;}#sk-container-id-13 div.sk-parallel {display: flex;align-items: stretch;justify-content: center;background-color: white;position: relative;}#sk-container-id-13 div.sk-item::before, #sk-container-id-13 div.sk-parallel-item::before {content: \"\";position: absolute;border-left: 1px solid gray;box-sizing: border-box;top: 0;bottom: 0;left: 50%;z-index: -1;}#sk-container-id-13 div.sk-parallel-item {display: flex;flex-direction: column;z-index: 1;position: relative;background-color: white;}#sk-container-id-13 div.sk-parallel-item:first-child::after {align-self: flex-end;width: 50%;}#sk-container-id-13 div.sk-parallel-item:last-child::after {align-self: flex-start;width: 50%;}#sk-container-id-13 div.sk-parallel-item:only-child::after {width: 0;}#sk-container-id-13 div.sk-dashed-wrapped {border: 1px dashed gray;margin: 0 0.4em 0.5em 0.4em;box-sizing: border-box;padding-bottom: 0.4em;background-color: white;}#sk-container-id-13 div.sk-label label {font-family: monospace;font-weight: bold;display: inline-block;line-height: 1.2em;}#sk-container-id-13 div.sk-label-container {text-align: center;}#sk-container-id-13 div.sk-container {/* jupyter's `normalize.less` sets `[hidden] { display: none; }` but bootstrap.min.css set `[hidden] { display: none !important; }` so we also need the `!important` here to be able to override the default hidden behavior on the sphinx rendered scikit-learn.org. See: https://github.com/scikit-learn/scikit-learn/issues/21755 */display: inline-block !important;position: relative;}#sk-container-id-13 div.sk-text-repr-fallback {display: none;}</style><div id=\"sk-container-id-13\" class=\"sk-top-container\"><div class=\"sk-text-repr-fallback\"><pre>Pipeline(steps=[(&#x27;preprocessor&#x27;,\n",
              "                 ColumnTransformer(transformers=[(&#x27;num&#x27;, StandardScaler(),\n",
              "                                                  [&#x27;Day&#x27;, &#x27;Month&#x27;, &#x27;Year&#x27;,\n",
              "                                                   &#x27;Team_A_Ranking&#x27;,\n",
              "                                                   &#x27;Team_B_Ranking&#x27;,\n",
              "                                                   &#x27;Team_A_Recent_Form&#x27;,\n",
              "                                                   &#x27;Team_B_Recent_Form&#x27;,\n",
              "                                                   &#x27;Team_A_Recent_Runs&#x27;,\n",
              "                                                   &#x27;Team_A_Recent_Wickets&#x27;,\n",
              "                                                   &#x27;Team_B_Recent_Runs&#x27;,\n",
              "                                                   &#x27;Team_B_Recent_Wickets&#x27;,\n",
              "                                                   &#x27;win_rate_team_a&#x27;,\n",
              "                                                   &#x27;win_rate_team_b&#x27;]),\n",
              "                                                 (&#x27;bin&#x27;, &#x27;passthrough&#x27;,\n",
              "                                                  [&#x27;Is_Home_Team_A&#x27;,\n",
              "                                                   &#x27;Is_Home_Team_B&#x27;,\n",
              "                                                   &#x27;Toss_Decision&#x27;,\n",
              "                                                   &#x27;Toss_Winner&#x27;])])),\n",
              "                (&#x27;classifier&#x27;, GradientBoostingClassifier(random_state=42))])</pre><b>In a Jupyter environment, please rerun this cell to show the HTML representation or trust the notebook. <br />On GitHub, the HTML representation is unable to render, please try loading this page with nbviewer.org.</b></div><div class=\"sk-container\" hidden><div class=\"sk-item sk-dashed-wrapped\"><div class=\"sk-label-container\"><div class=\"sk-label sk-toggleable\"><input class=\"sk-toggleable__control sk-hidden--visually\" id=\"sk-estimator-id-107\" type=\"checkbox\" ><label for=\"sk-estimator-id-107\" class=\"sk-toggleable__label sk-toggleable__label-arrow\">Pipeline</label><div class=\"sk-toggleable__content\"><pre>Pipeline(steps=[(&#x27;preprocessor&#x27;,\n",
              "                 ColumnTransformer(transformers=[(&#x27;num&#x27;, StandardScaler(),\n",
              "                                                  [&#x27;Day&#x27;, &#x27;Month&#x27;, &#x27;Year&#x27;,\n",
              "                                                   &#x27;Team_A_Ranking&#x27;,\n",
              "                                                   &#x27;Team_B_Ranking&#x27;,\n",
              "                                                   &#x27;Team_A_Recent_Form&#x27;,\n",
              "                                                   &#x27;Team_B_Recent_Form&#x27;,\n",
              "                                                   &#x27;Team_A_Recent_Runs&#x27;,\n",
              "                                                   &#x27;Team_A_Recent_Wickets&#x27;,\n",
              "                                                   &#x27;Team_B_Recent_Runs&#x27;,\n",
              "                                                   &#x27;Team_B_Recent_Wickets&#x27;,\n",
              "                                                   &#x27;win_rate_team_a&#x27;,\n",
              "                                                   &#x27;win_rate_team_b&#x27;]),\n",
              "                                                 (&#x27;bin&#x27;, &#x27;passthrough&#x27;,\n",
              "                                                  [&#x27;Is_Home_Team_A&#x27;,\n",
              "                                                   &#x27;Is_Home_Team_B&#x27;,\n",
              "                                                   &#x27;Toss_Decision&#x27;,\n",
              "                                                   &#x27;Toss_Winner&#x27;])])),\n",
              "                (&#x27;classifier&#x27;, GradientBoostingClassifier(random_state=42))])</pre></div></div></div><div class=\"sk-serial\"><div class=\"sk-item sk-dashed-wrapped\"><div class=\"sk-label-container\"><div class=\"sk-label sk-toggleable\"><input class=\"sk-toggleable__control sk-hidden--visually\" id=\"sk-estimator-id-108\" type=\"checkbox\" ><label for=\"sk-estimator-id-108\" class=\"sk-toggleable__label sk-toggleable__label-arrow\">preprocessor: ColumnTransformer</label><div class=\"sk-toggleable__content\"><pre>ColumnTransformer(transformers=[(&#x27;num&#x27;, StandardScaler(),\n",
              "                                 [&#x27;Day&#x27;, &#x27;Month&#x27;, &#x27;Year&#x27;, &#x27;Team_A_Ranking&#x27;,\n",
              "                                  &#x27;Team_B_Ranking&#x27;, &#x27;Team_A_Recent_Form&#x27;,\n",
              "                                  &#x27;Team_B_Recent_Form&#x27;, &#x27;Team_A_Recent_Runs&#x27;,\n",
              "                                  &#x27;Team_A_Recent_Wickets&#x27;, &#x27;Team_B_Recent_Runs&#x27;,\n",
              "                                  &#x27;Team_B_Recent_Wickets&#x27;, &#x27;win_rate_team_a&#x27;,\n",
              "                                  &#x27;win_rate_team_b&#x27;]),\n",
              "                                (&#x27;bin&#x27;, &#x27;passthrough&#x27;,\n",
              "                                 [&#x27;Is_Home_Team_A&#x27;, &#x27;Is_Home_Team_B&#x27;,\n",
              "                                  &#x27;Toss_Decision&#x27;, &#x27;Toss_Winner&#x27;])])</pre></div></div></div><div class=\"sk-parallel\"><div class=\"sk-parallel-item\"><div class=\"sk-item\"><div class=\"sk-label-container\"><div class=\"sk-label sk-toggleable\"><input class=\"sk-toggleable__control sk-hidden--visually\" id=\"sk-estimator-id-109\" type=\"checkbox\" ><label for=\"sk-estimator-id-109\" class=\"sk-toggleable__label sk-toggleable__label-arrow\">num</label><div class=\"sk-toggleable__content\"><pre>[&#x27;Day&#x27;, &#x27;Month&#x27;, &#x27;Year&#x27;, &#x27;Team_A_Ranking&#x27;, &#x27;Team_B_Ranking&#x27;, &#x27;Team_A_Recent_Form&#x27;, &#x27;Team_B_Recent_Form&#x27;, &#x27;Team_A_Recent_Runs&#x27;, &#x27;Team_A_Recent_Wickets&#x27;, &#x27;Team_B_Recent_Runs&#x27;, &#x27;Team_B_Recent_Wickets&#x27;, &#x27;win_rate_team_a&#x27;, &#x27;win_rate_team_b&#x27;]</pre></div></div></div><div class=\"sk-serial\"><div class=\"sk-item\"><div class=\"sk-estimator sk-toggleable\"><input class=\"sk-toggleable__control sk-hidden--visually\" id=\"sk-estimator-id-110\" type=\"checkbox\" ><label for=\"sk-estimator-id-110\" class=\"sk-toggleable__label sk-toggleable__label-arrow\">StandardScaler</label><div class=\"sk-toggleable__content\"><pre>StandardScaler()</pre></div></div></div></div></div></div><div class=\"sk-parallel-item\"><div class=\"sk-item\"><div class=\"sk-label-container\"><div class=\"sk-label sk-toggleable\"><input class=\"sk-toggleable__control sk-hidden--visually\" id=\"sk-estimator-id-111\" type=\"checkbox\" ><label for=\"sk-estimator-id-111\" class=\"sk-toggleable__label sk-toggleable__label-arrow\">bin</label><div class=\"sk-toggleable__content\"><pre>[&#x27;Is_Home_Team_A&#x27;, &#x27;Is_Home_Team_B&#x27;, &#x27;Toss_Decision&#x27;, &#x27;Toss_Winner&#x27;]</pre></div></div></div><div class=\"sk-serial\"><div class=\"sk-item\"><div class=\"sk-estimator sk-toggleable\"><input class=\"sk-toggleable__control sk-hidden--visually\" id=\"sk-estimator-id-112\" type=\"checkbox\" ><label for=\"sk-estimator-id-112\" class=\"sk-toggleable__label sk-toggleable__label-arrow\">passthrough</label><div class=\"sk-toggleable__content\"><pre>passthrough</pre></div></div></div></div></div></div></div></div><div class=\"sk-item\"><div class=\"sk-estimator sk-toggleable\"><input class=\"sk-toggleable__control sk-hidden--visually\" id=\"sk-estimator-id-113\" type=\"checkbox\" ><label for=\"sk-estimator-id-113\" class=\"sk-toggleable__label sk-toggleable__label-arrow\">GradientBoostingClassifier</label><div class=\"sk-toggleable__content\"><pre>GradientBoostingClassifier(random_state=42)</pre></div></div></div></div></div></div></div>"
            ],
            "text/plain": [
              "Pipeline(steps=[('preprocessor',\n",
              "                 ColumnTransformer(transformers=[('num', StandardScaler(),\n",
              "                                                  ['Day', 'Month', 'Year',\n",
              "                                                   'Team_A_Ranking',\n",
              "                                                   'Team_B_Ranking',\n",
              "                                                   'Team_A_Recent_Form',\n",
              "                                                   'Team_B_Recent_Form',\n",
              "                                                   'Team_A_Recent_Runs',\n",
              "                                                   'Team_A_Recent_Wickets',\n",
              "                                                   'Team_B_Recent_Runs',\n",
              "                                                   'Team_B_Recent_Wickets',\n",
              "                                                   'win_rate_team_a',\n",
              "                                                   'win_rate_team_b']),\n",
              "                                                 ('bin', 'passthrough',\n",
              "                                                  ['Is_Home_Team_A',\n",
              "                                                   'Is_Home_Team_B',\n",
              "                                                   'Toss_Decision',\n",
              "                                                   'Toss_Winner'])])),\n",
              "                ('classifier', GradientBoostingClassifier(random_state=42))])"
            ]
          },
          "execution_count": 243,
          "metadata": {},
          "output_type": "execute_result"
        }
      ],
      "source": [
        "pipeline_no_venue.fit(X_train_no_venue, y_train)"
      ]
    },
    {
      "cell_type": "markdown",
      "metadata": {},
      "source": [
        "    5. Evaluate the new model"
      ]
    },
    {
      "cell_type": "code",
      "execution_count": 251,
      "metadata": {},
      "outputs": [],
      "source": [
        "train_accuracy = pipeline_no_venue.score(X_train_no_venue, y_train)\n",
        "test_accuracy = pipeline_no_venue.score(X_test_no_venue, y_test)\n",
        "y_pred = pipeline_no_venue.predict(X_test_no_venue)\n"
      ]
    },
    {
      "cell_type": "code",
      "execution_count": 252,
      "metadata": {},
      "outputs": [],
      "source": [
        "accuracy = accuracy_score(y_test, y_pred)\n",
        "f1 = f1_score(y_test, y_pred)\n",
        "precision = precision_score(y_test, y_pred)\n",
        "recall = recall_score(y_test, y_pred)"
      ]
    },
    {
      "cell_type": "code",
      "execution_count": 253,
      "metadata": {},
      "outputs": [
        {
          "name": "stdout",
          "output_type": "stream",
          "text": [
            "Model performance without 'Venue' features:\n",
            "Accuracy: 0.64\n",
            "F1-score: 0.64\n",
            "Precision: 0.66\n",
            "Recall: 0.62\n"
          ]
        }
      ],
      "source": [
        "print(\"Model performance without 'Venue' features:\")\n",
        "print(f'Accuracy: {accuracy:.2f}')\n",
        "print(f'F1-score: {f1:.2f}')\n",
        "print(f'Precision: {precision:.2f}')\n",
        "print(f'Recall: {recall:.2f}')"
      ]
    },
    {
      "cell_type": "markdown",
      "metadata": {},
      "source": [
        "    6. Extract and display feature importances\n"
      ]
    },
    {
      "cell_type": "code",
      "execution_count": 245,
      "metadata": {},
      "outputs": [],
      "source": [
        "importances_no_venue = pipeline_no_venue.named_steps['classifier'].feature_importances_\n"
      ]
    },
    {
      "cell_type": "markdown",
      "metadata": {},
      "source": [
        "    6. Create a DataFrame for the feature importances\n"
      ]
    },
    {
      "cell_type": "code",
      "execution_count": 246,
      "metadata": {},
      "outputs": [
        {
          "name": "stdout",
          "output_type": "stream",
          "text": [
            "                  Feature  Importance\n",
            "9      Team_A_Recent_Form    0.133852\n",
            "3          Is_Home_Team_A    0.130071\n",
            "4          Is_Home_Team_B    0.121101\n",
            "7          Team_A_Ranking    0.112508\n",
            "8          Team_B_Ranking    0.083360\n",
            "0                     Day    0.062315\n",
            "2                    Year    0.056979\n",
            "1                   Month    0.056212\n",
            "6             Toss_Winner    0.050782\n",
            "5           Toss_Decision    0.049166\n",
            "10     Team_B_Recent_Form    0.042447\n",
            "12  Team_A_Recent_Wickets    0.034172\n",
            "14  Team_B_Recent_Wickets    0.031587\n",
            "11     Team_A_Recent_Runs    0.028415\n",
            "15        win_rate_team_a    0.004314\n",
            "16        win_rate_team_b    0.001902\n",
            "13     Team_B_Recent_Runs    0.000819\n"
          ]
        }
      ],
      "source": [
        "feature_names_no_venue = X_no_venue.columns\n",
        "feature_importance_df_no_venue = pd.DataFrame({\n",
        "    'Feature': feature_names_no_venue,\n",
        "    'Importance': importances_no_venue\n",
        "}).sort_values(by='Importance', ascending=False)\n",
        "\n",
        "print(feature_importance_df_no_venue)"
      ]
    },
    {
      "cell_type": "markdown",
      "metadata": {},
      "source": [
        "#### Visualize Feature Importances:"
      ]
    },
    {
      "cell_type": "code",
      "execution_count": 247,
      "metadata": {
        "colab": {
          "base_uri": "https://localhost:8080/"
        },
        "id": "KL2d50urueyi",
        "outputId": "af3f5f58-1695-4e6f-d22d-c87cd4eebf20"
      },
      "outputs": [
        {
          "data": {
            "image/png": "[encoded data removed]",
            "text/plain": [
              "<Figure size 1000x600 with 1 Axes>"
            ]
          },
          "metadata": {},
          "output_type": "display_data"
        }
      ],
      "source": [
        "plt.figure(figsize=(10, 6))\n",
        "plt.barh(feature_importance_df_no_venue['Feature'], feature_importance_df_no_venue['Importance'])\n",
        "plt.xticks(rotation=90)\n",
        "plt.title('Feature Importances')\n",
        "plt.tight_layout()\n",
        "plt.show()\n"
      ]
    },
    {
      "cell_type": "markdown",
      "metadata": {},
      "source": [
        "## Conclusion\n",
        "\n",
        "Before removing the venue features, the model achieved an accuracy of 64.00%. After excluding these features, the model's accuracy remained at 64%. This suggests that while venue features were highly influential, their removal did not significantly impact the overall performance of the model.\n",
        "\n",
        "### Feature Importance Analysis\n",
        "\n",
        "- **Top Influential Features**: The most important features after removing venue data are `Team_A_Recent_Form`, `Is_Home_Team_A`, and `Is_Home_Team_B`. This indicates that recent performance and home advantage are key factors in the model's predictions.\n",
        "- **Comparative Importance**: The influence of features like team rankings and recent form remains significant, emphasizing their predictive value.\n",
        "- **Minor Features**: Features such as `win_rate_team_a` and `win_rate_team_b` have low importance, suggesting they contribute less to the model's predictions.\n",
        "\n",
        "This analysis highlights that, although venue features carried a substantial weight in the model, the performance remained stable without them. It is crucial to further explore other feature engineering and selection techniques to enhance model accuracy and interpretability.\n"
      ]
    }
  ],
  "metadata": {
    "colab": {
      "provenance": []
    },
    "kernelspec": {
      "display_name": "Python 3",
      "name": "python3"
    },
    "language_info": {
      "codemirror_mode": {
        "name": "ipython",
        "version": 3
      },
      "file_extension": ".py",
      "mimetype": "text/x-python",
      "name": "python",
      "nbconvert_exporter": "python",
      "pygments_lexer": "ipython3",
      "version": "3.11.9"
    }
  },
  "nbformat": 4,
  "nbformat_minor": 0
}
